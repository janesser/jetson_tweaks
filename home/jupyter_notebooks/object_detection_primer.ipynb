{
 "cells": [
  {
   "cell_type": "markdown",
   "metadata": {},
   "source": [
    "# Object Detection with YoloV4 and TensorRT\n",
    "\n",
    "CSI Camera is hw-acc encoding jpg frames\n",
    "\n",
    "YoloV4 imported from ONNX.\n",
    "\n",
    "TensorRT conversion is cached.\n",
    "FP32 is cast to FP16 here.\n",
    "\n",
    "TODO activate observer for object_detection\n",
    "\n",
    "## Pipeline\n",
    "- nvargus\n",
    "- GStreamer \n",
    "`nvarguscamerasrc sensor-id=%d ! video/x-raw(memory:NVMM), width=%d, height=%d, format=(string)NV12, framerate=(fraction)%d/1 ! nvvidconv flip-method=0 !  nvjpegenc`\n",
    "- manual / observer\n",
    "- preprocessor\n",
    "    - scaling and padding\n",
    "    (camera size matches)\n",
    "- TensorRT yoloV4\n",
    "- postprocessor\n",
    "    - threshold\n",
    "    - intersection over union\n",
    "    - nms\n",
    "- jupyter image widget"
   ]
  },
  {
   "cell_type": "code",
   "execution_count": 1,
   "metadata": {},
   "outputs": [
    {
     "name": "stdout",
     "output_type": "stream",
     "text": [
      "Collecting wget\n",
      "  Downloading https://files.pythonhosted.org/packages/47/6a/62e288da7bcda82b935ff0c6cfe542970f04e29c756b0e147251b2fb251f/wget-3.2.zip\n",
      "Building wheels for collected packages: wget\n",
      "  Running setup.py bdist_wheel for wget ... \u001b[?25ldone\n",
      "\u001b[?25h  Stored in directory: /root/.cache/pip/wheels/40/15/30/7d8f7cea2902b4db79e3fea550d7d7b85ecb27ef992b618f3f\n",
      "Successfully built wget\n",
      "Installing collected packages: wget\n",
      "Successfully installed wget-3.2\n"
     ]
    }
   ],
   "source": [
    "!pip3 install wget"
   ]
  },
  {
   "cell_type": "code",
   "execution_count": 3,
   "metadata": {},
   "outputs": [
    {
     "data": {
      "text/plain": [
       "'/nvdli-nano/data/yolov4.onnx'"
      ]
     },
     "metadata": {},
     "output_type": "display_data"
    },
    {
     "data": {
      "text/plain": [
       "'/nvdli-nano/data/yolov4.anchors'"
      ]
     },
     "metadata": {},
     "output_type": "display_data"
    },
    {
     "data": {
      "text/plain": [
       "'/nvdli-nano/data/coco.names'"
      ]
     },
     "metadata": {},
     "output_type": "display_data"
    }
   ],
   "source": [
    "from common import download_file\n",
    "\n",
    "YOLOv4_FILE = '/nvdli-nano/data/yolov4.onnx'\n",
    "YOLOv4_URL = 'https://media.githubusercontent.com/media/onnx/models/master/vision/object_detection_segmentation/yolov4/model/yolov4.onnx'\n",
    "\n",
    "YOLOv4_ANCHORS_FILE = '/nvdli-nano/data/yolov4.anchors'\n",
    "YOLOv4_ANCHORS_URL = 'https://raw.githubusercontent.com/onnx/models/master/vision/object_detection_segmentation/yolov4/dependencies/yolov4_anchors.txt'\n",
    "\n",
    "COCO_NAMES_FILE = '/nvdli-nano/data/coco.names'\n",
    "COCO_NAMES_URL = 'https://raw.githubusercontent.com/onnx/models/master/vision/object_detection_segmentation/yolov4/dependencies/coco.names'\n",
    "\n",
    "display(\n",
    "    download_file(YOLOv4_FILE, YOLOv4_URL)\n",
    ")\n",
    "display(\n",
    "    download_file(YOLOv4_ANCHORS_FILE, YOLOv4_ANCHORS_URL)\n",
    ")\n",
    "display(\n",
    "    download_file(COCO_NAMES_FILE, COCO_NAMES_URL)\n",
    ")"
   ]
  },
  {
   "cell_type": "code",
   "execution_count": 8,
   "metadata": {},
   "outputs": [
    {
     "name": "stdout",
     "output_type": "stream",
     "text": [
      "fp16 mode enabled\n",
      "Loading ONNX file from path /nvdli-nano/data/yolov4.onnx...\n",
      "Beginning ONNX file parsing\n",
      "Completed parsing of ONNX file\n",
      "Building an engine from file /nvdli-nano/data/yolov4.onnx; this may take a while...\n",
      "Completed creating Engine\n"
     ]
    }
   ],
   "source": [
    "ENGINE_FILE = '/nvdli-nano/data/yolov4.trt'\n",
    "\n",
    "# FIXME https://docs.nvidia.com/deeplearning/tensorrt/developer-guide/index.html#work_dynamic_shapes\n",
    "## network.get_input(0).shape = [1, 416, 416, 3]\n",
    "YOLOv4_DIMS = (416, 416)\n",
    "\n",
    "def build_engine(onnx_file_path, engine_file_path):\n",
    "    import tensorrt as trt\n",
    "    from onnx_to_tensorrt import TRT_LOGGER\n",
    "    import common\n",
    "    import os\n",
    "    \n",
    "    with trt.Builder(TRT_LOGGER) as builder, builder.create_network(common.EXPLICIT_BATCH) as network, builder.create_builder_config() as config, trt.OnnxParser(network, TRT_LOGGER) as parser:\n",
    "        config.max_workspace_size = 1 << 28 # 256MiB\n",
    "        builder.max_batch_size = 1\n",
    "        if builder.platform_has_fast_int8:\n",
    "            builder.int8_mode = True\n",
    "            print('int8 mode enabled')\n",
    "        elif builder.platform_has_fast_fp16:\n",
    "            builder.fp16_mode = True\n",
    "            print('fp16 mode enabled')\n",
    "        elif build.platform_has_tf32:\n",
    "            builder.tf32_mode = True\n",
    "            print('tf32 mode enabled')\n",
    "        else:\n",
    "            print('platform has no int8 or fp16 support')\n",
    "\n",
    "        # Parse model file\n",
    "        if not os.path.exists(onnx_file_path):\n",
    "            print('ONNX file {} not found, please run yolov3_to_onnx.py first to generate it.'.format(onnx_file_path))\n",
    "            exit(0)\n",
    "        print('Loading ONNX file from path {}...'.format(onnx_file_path))\n",
    "        with open(onnx_file_path, 'rb') as model:\n",
    "            print('Beginning ONNX file parsing')\n",
    "            if not parser.parse(model.read()):\n",
    "                print ('ERROR: Failed to parse the ONNX file.')\n",
    "                for error in range(parser.num_errors):\n",
    "                    print (parser.get_error(error))\n",
    "                return None\n",
    "        # The actual yolov3.onnx is generated with batch size 64. Reshape input to batch size 1\n",
    "        network.get_input(0).shape = [1, 416, 416, 3] # ORIG [1, 3, 608, 608]\n",
    "        print('Completed parsing of ONNX file')\n",
    "        print('Building an engine from file {}; this may take a while...'.format(onnx_file_path))\n",
    "        engine = builder.build_engine(network, config)\n",
    "        print(\"Completed creating Engine\")\n",
    "        with open(engine_file_path, \"wb\") as f:\n",
    "            f.write(engine.serialize())\n",
    "        return engine\n",
    "\n",
    "# del engine\n",
    "try: \n",
    "    engine\n",
    "except NameError:\n",
    "    from onnx_to_tensorrt import get_engine\n",
    "    from common import allocate_buffers\n",
    "    \n",
    "    cfx = make_default_context()\n",
    "    engine = build_engine(YOLOv4_FILE, ENGINE_FILE) # get_engine(YOLOv4_FILE, ENGINE_FILE)\n",
    "    inputs, outputs, bindings, stream = allocate_buffers(engine)"
   ]
  },
  {
   "cell_type": "code",
   "execution_count": 4,
   "metadata": {},
   "outputs": [],
   "source": [
    "from data_processing import PreprocessYOLO, PostprocessYOLO, ALL_CATEGORIES\n",
    "\n",
    "try: preprocessor\n",
    "except NameError:\n",
    "    preprocessor = PreprocessYOLO(YOLOv4_DIMS)\n",
    "\n",
    "def reshape_output(trt_output):\n",
    "    if len(trt_output) % (52*52) == 0:\n",
    "        return trt_output.reshape(1, 52, 52, 3, 85)\n",
    "    elif len(trt_output) % (26*26) == 0:\n",
    "        return trt_output.reshape(1, 26, 26, 3, 85)\n",
    "    elif len(trt_output) % (13*13) == 0:\n",
    "        return trt_output.reshape(1, 13, 13, 3, 85)\n",
    "    else:\n",
    "        print('unknown trt_output size {}'.format(len(trt_output)))\n",
    "        return []\n",
    "\n",
    "def infer_from_camera(widget, camera):\n",
    "    camera.running = False\n",
    "    image = camera.read_image()\n",
    "    infer_from_bytes(widget, image)\n",
    "    \n",
    "def infer_from_change(widget, change):\n",
    "    # print(\"infering for widget {} with change {}\".format(widget, change))\n",
    "    infer_from_bytes(widget, change.new)\n",
    "\n",
    "def infer_from_bytes(widget, change):\n",
    "    from common import do_inference_v2\n",
    "    from yolo4_inference import image_ppreprocess, postprocess_bbbox, postprocess_boxes, nms, draw_bbox, get_anchors\n",
    "    import numpy as np\n",
    "\n",
    "    cfx.push()\n",
    "    \n",
    "    ## size matches, jpeg encoded\n",
    "    # image_raw, image_preprocessed = preprocessor.processLoaded(change)\n",
    "    pil_img, pre_img, np_img = image_ppreprocess(change, YOLOv4_DIMS)\n",
    "\n",
    "    with engine.create_execution_context() as context:\n",
    "        inputs[0].host = pre_img\n",
    "        trt_outputs = do_inference_v2(context, bindings=bindings, inputs=inputs, outputs=outputs, stream=stream)            \n",
    "        # fixed by applying preprocessors shuffle https://forums.developer.nvidia.com/t/yolo-v3-output-boxes-are-nan-both-in-python-and-c/142289/2\n",
    "\n",
    "        ## print(\"Output shape:\", list(map(lambda trt_output: trt_output.shape, trt_outputs)))\n",
    "        trt_outputs_reshaped = list(map(reshape_output, trt_outputs))\n",
    "        ## print(\"Output re-shape:\", list(map(lambda trt_output: trt_output.shape, trt_outputs_reshaped)))\n",
    "\n",
    "        ANCHORS = get_anchors(YOLOv4_ANCHORS_FILE)\n",
    "        STRIDES = np.array([8, 16, 32])\n",
    "        XYSCALE = [1.2, 1.1, 1.05]\n",
    "\n",
    "        pred_bbox = postprocess_bbbox(trt_outputs_reshaped, ANCHORS, STRIDES, XYSCALE)\n",
    "        pp_bboxes = postprocess_boxes(pred_bbox, YOLOv4_DIMS, YOLOv4_DIMS[0], score_threshold=0.2)\n",
    "        bboxes = nms(pp_bboxes, iou_threshold=0.2, method='nms')\n",
    "\n",
    "        # bboxes.append([0,0,YOLOv4_DIMS[0]//2, YOLOv4_DIMS[1]//2, 1, 56])\n",
    "        # print('draw_bbox({}, {}, classes={})'.format(image_raw, bboxes, ALL_CATEGORIES))\n",
    "\n",
    "        boxed_image = draw_bbox(np_img, bboxes, classes=ALL_CATEGORIES)\n",
    "        widget.value = cv2.imencode('.jpg', boxed_image)[1].tobytes()\n",
    "    cfx.pop()\n",
    "        \n",
    "def transform_image(image):\n",
    "    return image.flatten().tobytes()\n"
   ]
  },
  {
   "cell_type": "code",
   "execution_count": 5,
   "metadata": {},
   "outputs": [
    {
     "name": "stdout",
     "output_type": "stream",
     "text": [
      "crw-rw---- 1 root video 81, 3 Jun  9 12:55 /dev/video1\n",
      "crw-rw---- 1 root video 81, 0 Jun  9 12:55 /dev/video0\n"
     ]
    }
   ],
   "source": [
    "!ls -ltrh /dev/video*"
   ]
  },
  {
   "cell_type": "code",
   "execution_count": 6,
   "metadata": {},
   "outputs": [
    {
     "name": "stdout",
     "output_type": "stream",
     "text": [
      "tensorrt 7.1.3.0\n",
      "cv2 4.1.1\n"
     ]
    }
   ],
   "source": [
    "import tensorrt\n",
    "print('tensorrt %s' % tensorrt.__version__)\n",
    "\n",
    "import cv2\n",
    "print('cv2 %s' % cv2.__version__)"
   ]
  },
  {
   "cell_type": "code",
   "execution_count": 7,
   "metadata": {},
   "outputs": [],
   "source": [
    "from jetcam.csi_camera import CSICamera\n",
    "\n",
    "class MyCamera(CSICamera):\n",
    "    def __init__(self, *args, **kwargs):\n",
    "        super(MyCamera, self).__init__(*args, **kwargs)\n",
    "\n",
    "    ## https://forums.developer.nvidia.com/t/example-gstreamer-pipeline-to-test-li-imx219-mipi-ff-nano-on-the-jetson-nano/72226\n",
    "    # gst-launch-1.0 nvarguscamerasrc ! ‘video/x-raw(memory:NVMM),width=1024, height=768, framerate=120/1, format=NV12’ ! nvvidconv flip-method=0 ! nvegltransform ! nveglglessink -e\n",
    "    def _gst_str(self):\n",
    "        return 'nvarguscamerasrc sensor-id=%d ! video/x-raw(memory:NVMM), width=%d, height=%d, format=(string)NV12, framerate=(fraction)%d/1 ! nvvidconv flip-method=0 !  nvjpegenc ! appsink' % (\n",
    "                self.capture_device, self.capture_width, self.capture_height, self.capture_fps) # , self.width, self.height\n",
    "    \n",
    "    def release(self):\n",
    "        self.cap.release()\n",
    "        self.cap = None\n",
    "        \n",
    "    def read_image(self):\n",
    "        return transform_image(self.read())\n",
    "    \n",
    "def update_image(image_widget, change):\n",
    "    image = transform_image(change['new'])\n",
    "    image_widget.value = image\n"
   ]
  },
  {
   "cell_type": "code",
   "execution_count": 8,
   "metadata": {},
   "outputs": [
    {
     "data": {
      "text/plain": [
       "[<__main__.MyCamera at 0x7f813b01d0>, <__main__.MyCamera at 0x7f813aba20>]"
      ]
     },
     "metadata": {},
     "output_type": "display_data"
    }
   ],
   "source": [
    "# https://www.waveshare.com/wiki/IMX219-83_Stereo_Camera\n",
    "# Resolution: 3280 × 2464 (per camera)\n",
    "WIDTH = YOLOv4_DIMS[0]\n",
    "HEIGHT = YOLOv4_DIMS[1]\n",
    "FPS = 1\n",
    "\n",
    "try: cameras\n",
    "except NameError:\n",
    "    cameraLeft = MyCamera(capture_device=0, capture_width=WIDTH, capture_height=HEIGHT, capture_fps=FPS)\n",
    "    cameraRight = MyCamera(capture_device=1, capture_width=WIDTH, capture_height=HEIGHT, capture_fps=FPS)\n",
    "\n",
    "    cameras = [cameraLeft, cameraRight]\n",
    "    \n",
    "display(cameras)"
   ]
  },
  {
   "cell_type": "code",
   "execution_count": 9,
   "metadata": {},
   "outputs": [
    {
     "data": {
      "application/vnd.jupyter.widget-view+json": {
       "model_id": "e11c7ae19b104409ac7018a9ab5dc500",
       "version_major": 2,
       "version_minor": 0
      },
      "text/plain": [
       "Image(value=b'\\xff\\xd8\\xff\\xe0\\x00\\x10JFIF\\x00\\x01\\x01\\x00\\x00\\x01\\x00\\x01\\x00\\x00\\xff\\xdb\\x00C\\x00\\x02\\x01\\x0…"
      ]
     },
     "metadata": {},
     "output_type": "display_data"
    },
    {
     "data": {
      "application/vnd.jupyter.widget-view+json": {
       "model_id": "5f140d31d3ce4892b1ed6869a7bdf588",
       "version_major": 2,
       "version_minor": 0
      },
      "text/plain": [
       "Image(value=b'\\xff\\xd8\\xff\\xe0\\x00\\x10JFIF\\x00\\x01\\x01\\x00\\x00\\x01\\x00\\x01\\x00\\x00\\xff\\xdb\\x00C\\x00\\x02\\x01\\x0…"
      ]
     },
     "metadata": {},
     "output_type": "display_data"
    }
   ],
   "source": [
    "from importlib import reload\n",
    "import yolo4_inference\n",
    "reload(yolo4_inference)\n",
    "\n",
    "import ipywidgets\n",
    "from IPython.display import display\n",
    "\n",
    "try: widgets\n",
    "except NameError:\n",
    "    widgets = []\n",
    "    \n",
    "if not widgets:\n",
    "    for camera in cameras:\n",
    "        camera.running = False\n",
    "        image = camera.read_image()\n",
    "\n",
    "        image_widget = ipywidgets.Image(format='jpeg')\n",
    "        image_widget.value = image\n",
    "\n",
    "        widgets.append(image_widget)\n",
    "        \n",
    "for camera, widget in zip(cameras, widgets):\n",
    "    infer_from_camera(widget, camera)\n",
    "    camera.running = False\n",
    "    display(widget)"
   ]
  },
  {
   "cell_type": "code",
   "execution_count": 10,
   "metadata": {},
   "outputs": [
    {
     "name": "stdout",
     "output_type": "stream",
     "text": [
      "functools.partial(<function infer_from_change at 0x7f81423510>, Image(value=b'\\xff\\xd8\\xff\\xe0\\x00\\x10JFIF\\x00\\x01\\x01\\x00\\x00\\x01\\x00\\x01\\x00\\x00\\xff\\xdb\\x00C\\x00\\x02\\x01\\x01\\x0...', format='jpeg'))\n",
      "<__main__.MyCamera object at 0x7f813b01d0>\n"
     ]
    }
   ],
   "source": [
    "from importlib import reload\n",
    "import yolo4_inference\n",
    "reload(yolo4_inference)\n",
    "\n",
    "from functools import partial\n",
    "\n",
    "try: \n",
    "    cameras[0].unobserve(obs, names=['value'])\n",
    "    cameras[0].running=False\n",
    "except NameError:\n",
    "    pass\n",
    "except ValueError:\n",
    "    pass\n",
    "\n",
    "#del obs\n",
    "try: obs\n",
    "except NameError:\n",
    "    obs = partial(infer_from_change, widgets[0])\n",
    "\n",
    "cameras[0].observe(obs, names=['value'])\n",
    "cameras[0].running=True\n",
    "\n",
    "print(obs)\n",
    "print(cameras[0])"
   ]
  },
  {
   "cell_type": "code",
   "execution_count": 11,
   "metadata": {},
   "outputs": [
    {
     "ename": "SyntaxError",
     "evalue": "'return' outside function (<ipython-input-11-4371bf926264>, line 1)",
     "output_type": "error",
     "traceback": [
      "\u001b[0;36m  File \u001b[0;32m\"<ipython-input-11-4371bf926264>\"\u001b[0;36m, line \u001b[0;32m1\u001b[0m\n\u001b[0;31m    return\u001b[0m\n\u001b[0m            ^\u001b[0m\n\u001b[0;31mSyntaxError\u001b[0m\u001b[0;31m:\u001b[0m 'return' outside function\n"
     ]
    }
   ],
   "source": [
    "return  \n",
    "\n",
    "from functools import partial\n",
    "\n",
    "try: observers\n",
    "except NameError:\n",
    "    observers = []\n",
    "    \n",
    "if len(observers) < len(widgets):\n",
    "    for (camera, widget) in zip(cameras, widgets):\n",
    "        # observer = partial(update_image, widget)\n",
    "        observer = partial(infer_from_change, widget)\n",
    "        camera.observe(observer, names='value')\n",
    "\n",
    "        camera.running = True\n",
    "\n",
    "        observers.append(observer)\n",
    "\n",
    "display(observers)"
   ]
  },
  {
   "cell_type": "code",
   "execution_count": null,
   "metadata": {},
   "outputs": [],
   "source": [
    "for (camera, observer) in zip(cameras, observers):\n",
    "    try: camera.unobserve(observer, names='value')\n",
    "    except ValueError as err: \n",
    "        print('observer %s already unregistered: %s' % (observer, err))\n",
    "    observers.remove(observer)\n",
    "    camera.running = False\n",
    "    \n",
    "display(observers)"
   ]
  },
  {
   "cell_type": "code",
   "execution_count": null,
   "metadata": {},
   "outputs": [],
   "source": [
    "import cv2\n",
    "\n",
    "releaseCams = True\n",
    "\n",
    "if releaseCams:\n",
    "    for camera in cameras:\n",
    "        camera.release()\n",
    "        cameras.remove(camera)\n",
    "cv2.destroyAllWindows()        \n",
    "        \n",
    "display(cameras)"
   ]
  }
 ],
 "metadata": {
  "kernelspec": {
   "display_name": "Python 3",
   "language": "python",
   "name": "python3"
  },
  "language_info": {
   "codemirror_mode": {
    "name": "ipython",
    "version": 3
   },
   "file_extension": ".py",
   "mimetype": "text/x-python",
   "name": "python",
   "nbconvert_exporter": "python",
   "pygments_lexer": "ipython3",
   "version": "3.6.9"
  }
 },
 "nbformat": 4,
 "nbformat_minor": 4
}
