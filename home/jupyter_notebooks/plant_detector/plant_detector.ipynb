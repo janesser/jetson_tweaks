{
 "cells": [
  {
   "cell_type": "markdown",
   "id": "e8df5f50",
   "metadata": {},
   "source": [
    "# Plant Detector\n",
    "Application for urban gardening of https://bonndoc.ulb.uni-bonn.de/xmlui/bitstream/handle/20.500.11811/6164/3730.pdf?sequence=1&isAllowed=y \n",
    "aiming to detect pest and weeds\n",
    "\n",
    "## Functional components\n",
    "- camera driver norming pictures across external factors like weather and especially seasonal light conditions\n",
    "- object detector\n",
    "- object time-based transformer\n",
    "- plant species detector\n",
    "- outlook: \n",
    "    - plant disease detector\n",
    "    - co-species analysis\n",
    "    - gardener action recommender"
   ]
  },
  {
   "cell_type": "markdown",
   "id": "1eb307f2",
   "metadata": {},
   "source": [
    "## Technical considerations\n",
    "- take images\n",
    "- label images\n",
    "- https://github.com/tzutalin/labelImg\n",
    "- train plant (species) detection\n",
    "- convert to tflite / trt\n",
    "- federated / online learning\n"
   ]
  },
  {
   "cell_type": "code",
   "execution_count": 1,
   "id": "80276ddc",
   "metadata": {},
   "outputs": [],
   "source": [
    "from CameraDriver import CompositeCameraDriver, CsiCameraDriver"
   ]
  },
  {
   "cell_type": "code",
   "execution_count": 2,
   "id": "9adc3b52",
   "metadata": {},
   "outputs": [],
   "source": [
    "cameras = CompositeCameraDriver(CsiCameraDriver(800,800,0), CsiCameraDriver(800,800,1))"
   ]
  },
  {
   "cell_type": "code",
   "execution_count": null,
   "id": "55d1e01b",
   "metadata": {},
   "outputs": [],
   "source": [
    "cameras.release()"
   ]
  }
 ],
 "metadata": {
  "kernelspec": {
   "display_name": "Python 3",
   "language": "python",
   "name": "python3"
  },
  "language_info": {
   "codemirror_mode": {
    "name": "ipython",
    "version": 3
   },
   "file_extension": ".py",
   "mimetype": "text/x-python",
   "name": "python",
   "nbconvert_exporter": "python",
   "pygments_lexer": "ipython3",
   "version": "3.6.9"
  }
 },
 "nbformat": 4,
 "nbformat_minor": 5
}
