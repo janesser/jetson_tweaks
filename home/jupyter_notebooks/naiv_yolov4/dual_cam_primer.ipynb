{
 "cells": [
  {
   "cell_type": "code",
   "execution_count": 1,
   "metadata": {},
   "outputs": [
    {
     "name": "stdout",
     "output_type": "stream",
     "text": [
      "crw-rw---- 1 root video 81, 3 Aug 28 13:56 /dev/video1\n",
      "crw-rw---- 1 root video 81, 0 Aug 28 13:56 /dev/video0\n"
     ]
    }
   ],
   "source": [
    "!ls -ltrh /dev/video*"
   ]
  },
  {
   "cell_type": "code",
   "execution_count": 2,
   "metadata": {},
   "outputs": [],
   "source": [
    "from jetcam.csi_camera import CSICamera\n",
    "\n",
    "class MyCamera(CSICamera):\n",
    "    def __init__(self, *args, **kwargs):\n",
    "        super(MyCamera, self).__init__(*args, **kwargs)\n",
    "\n",
    "    ## https://forums.developer.nvidia.com/t/example-gstreamer-pipeline-to-test-li-imx219-mipi-ff-nano-on-the-jetson-nano/72226\n",
    "    # gst-launch-1.0 nvarguscamerasrc ! ‘video/x-raw(memory:NVMM),width=1024, height=768, framerate=120/1, format=NV12’ ! nvvidconv flip-method=0 ! nvegltransform ! nveglglessink -e\n",
    "    def _gst_str(self):\n",
    "        return 'nvarguscamerasrc sensor-id=%d ! video/x-raw(memory:NVMM), width=%d, height=%d, format=(string)NV12, framerate=(fraction)%d/1 ! nvvidconv flip-method=0 !  nvjpegenc ! appsink' % (\n",
    "                self.capture_device, self.capture_width, self.capture_height, self.capture_fps) # , self.width, self.height\n",
    "    \n",
    "    def release(self):\n",
    "        self.cap.release()"
   ]
  },
  {
   "cell_type": "code",
   "execution_count": 3,
   "metadata": {},
   "outputs": [
    {
     "data": {
      "text/plain": [
       "[<__main__.MyCamera at 0x7f7f641ef0>, <__main__.MyCamera at 0x7fa4e376d8>]"
      ]
     },
     "metadata": {},
     "output_type": "display_data"
    }
   ],
   "source": [
    "# https://www.waveshare.com/wiki/IMX219-83_Stereo_Camera\n",
    "# Resolution: 3280 × 2464 (per camera)\n",
    "WIDTH = 3280//8\n",
    "HEIGHT = 2646//8\n",
    "\n",
    "try: cameras\n",
    "except NameError:\n",
    "    cameraLeft = MyCamera(capture_device=0, capture_width=WIDTH, capture_height=HEIGHT)\n",
    "    cameraRight = MyCamera(capture_device=1, capture_width=WIDTH, capture_height=HEIGHT)\n",
    "\n",
    "    cameras = [cameraLeft, cameraRight]\n",
    "    \n",
    "display(cameras)"
   ]
  },
  {
   "cell_type": "code",
   "execution_count": 4,
   "metadata": {},
   "outputs": [],
   "source": [
    "def transform_image(image):\n",
    "    return image.flatten().tobytes()"
   ]
  },
  {
   "cell_type": "code",
   "execution_count": 5,
   "metadata": {},
   "outputs": [
    {
     "data": {
      "application/vnd.jupyter.widget-view+json": {
       "model_id": "406a8c901ffb4caa89abf932bb1367a8",
       "version_major": 2,
       "version_minor": 0
      },
      "text/plain": [
       "Image(value=b'\\xff\\xd8\\xff\\xdb\\x00\\x84\\x00\\x05\\x03\\x04\\x04\\x04\\x03\\x05\\x04\\x04\\x04\\x05\\x05\\x05\\x06\\x07\\x0c\\x08…"
      ]
     },
     "metadata": {},
     "output_type": "display_data"
    },
    {
     "data": {
      "application/vnd.jupyter.widget-view+json": {
       "model_id": "d9a25f25b97d45398cf9eff831a914a1",
       "version_major": 2,
       "version_minor": 0
      },
      "text/plain": [
       "Image(value=b'\\xff\\xd8\\xff\\xdb\\x00\\x84\\x00\\x05\\x03\\x04\\x04\\x04\\x03\\x05\\x04\\x04\\x04\\x05\\x05\\x05\\x06\\x07\\x0c\\x08…"
      ]
     },
     "metadata": {},
     "output_type": "display_data"
    },
    {
     "data": {
      "text/plain": [
       "[Image(value=b'\\xff\\xd8\\xff\\xdb\\x00\\x84\\x00\\x05\\x03\\x04\\x04\\x04\\x03\\x05\\x04\\x04\\x04\\x05\\x05\\x05\\x06\\x07\\x0c\\x08\\x07...', format='jpeg'),\n",
       " Image(value=b'\\xff\\xd8\\xff\\xdb\\x00\\x84\\x00\\x05\\x03\\x04\\x04\\x04\\x03\\x05\\x04\\x04\\x04\\x05\\x05\\x05\\x06\\x07\\x0c\\x08\\x07...', format='jpeg')]"
      ]
     },
     "metadata": {},
     "output_type": "display_data"
    }
   ],
   "source": [
    "import ipywidgets\n",
    "from IPython.display import display\n",
    "\n",
    "try: widgets\n",
    "except NameError:\n",
    "    widgets = []\n",
    "    \n",
    "if not widgets:\n",
    "    for camera in cameras:\n",
    "        camera.running = False\n",
    "\n",
    "        image = transform_image(camera.read())\n",
    "\n",
    "        image_widget = ipywidgets.Image(format='jpeg')\n",
    "        image_widget.value = image\n",
    "        display(image_widget)\n",
    "\n",
    "        widgets.append(image_widget)\n",
    "        \n",
    "display(widgets)"
   ]
  },
  {
   "cell_type": "code",
   "execution_count": 6,
   "metadata": {},
   "outputs": [
    {
     "data": {
      "text/plain": [
       "[functools.partial(<function update_image at 0x7f6032e400>, Image(value=b'\\xff\\xd8\\xff\\xdb\\x00\\x84\\x00\\x05\\x03\\x04\\x04\\x04\\x03\\x05\\x04\\x04\\x04\\x05\\x05\\x05\\x06\\x07\\x0c\\x08\\x07...', format='jpeg')),\n",
       " functools.partial(<function update_image at 0x7f6032e400>, Image(value=b'\\xff\\xd8\\xff\\xdb\\x00\\x84\\x00\\x05\\x03\\x04\\x04\\x04\\x03\\x05\\x04\\x04\\x04\\x05\\x05\\x05\\x06\\x07\\x0c\\x08\\x07...', format='jpeg'))]"
      ]
     },
     "metadata": {},
     "output_type": "display_data"
    }
   ],
   "source": [
    "from functools import partial\n",
    "\n",
    "def update_image(image_widget, change):\n",
    "    image = transform_image(change['new'])\n",
    "    image_widget.value = image\n",
    "\n",
    "try: observers\n",
    "except NameError:\n",
    "    observers = []\n",
    "    \n",
    "if len(observers) < len(widgets):\n",
    "    for (camera, widget) in zip(cameras, widgets):\n",
    "        observer = partial(update_image, widget)\n",
    "        camera.observe(observer, names='value')\n",
    "\n",
    "        camera.running = True\n",
    "\n",
    "        observers.append(observer)\n",
    "\n",
    "display(observers)"
   ]
  },
  {
   "cell_type": "code",
   "execution_count": 10,
   "metadata": {},
   "outputs": [
    {
     "data": {
      "text/plain": [
       "[functools.partial(<function update_image at 0x7f6032e400>, Image(value=b'\\xff\\xd8\\xff\\xdb\\x00\\x84\\x00\\x05\\x03\\x04\\x04\\x04\\x03\\x05\\x04\\x04\\x04\\x05\\x05\\x05\\x06\\x07\\x0c\\x08\\x07...', format='jpeg'))]"
      ]
     },
     "metadata": {},
     "output_type": "display_data"
    }
   ],
   "source": [
    "for (camera, observer) in zip(cameras, observers):\n",
    "    try: camera.unobserve(observer, names='value')\n",
    "    except ValueError: print('observer %s already unregistered' % observer)\n",
    "    observers.remove(observer)\n",
    "    camera.running = False\n",
    "    \n",
    "display(observers)"
   ]
  },
  {
   "cell_type": "code",
   "execution_count": 12,
   "metadata": {},
   "outputs": [
    {
     "data": {
      "text/plain": [
       "[]"
      ]
     },
     "metadata": {},
     "output_type": "display_data"
    }
   ],
   "source": [
    "releaseCams = True\n",
    "\n",
    "if releaseCams:\n",
    "    for camera in cameras:\n",
    "        camera.release()\n",
    "        cameras.remove(camera)\n",
    "\n",
    "display(cameras)"
   ]
  },
  {
   "cell_type": "code",
   "execution_count": null,
   "metadata": {},
   "outputs": [],
   "source": []
  },
  {
   "cell_type": "code",
   "execution_count": null,
   "metadata": {},
   "outputs": [],
   "source": []
  }
 ],
 "metadata": {
  "kernelspec": {
   "display_name": "Python 3",
   "language": "python",
   "name": "python3"
  },
  "language_info": {
   "codemirror_mode": {
    "name": "ipython",
    "version": 3
   },
   "file_extension": ".py",
   "mimetype": "text/x-python",
   "name": "python",
   "nbconvert_exporter": "python",
   "pygments_lexer": "ipython3",
   "version": "3.6.9"
  }
 },
 "nbformat": 4,
 "nbformat_minor": 4
}
