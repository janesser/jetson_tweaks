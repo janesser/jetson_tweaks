{
 "cells": [
  {
   "cell_type": "code",
   "execution_count": 1,
   "metadata": {},
   "outputs": [
    {
     "name": "stdout",
     "output_type": "stream",
     "text": [
      "Collecting boxsdk\n",
      "  Downloading https://files.pythonhosted.org/packages/17/36/2d9abdf352c269a4289dd3f67f1e91031bd195c8dba829ca0ebef42af990/boxsdk-2.12.1-py2.py3-none-any.whl (130kB)\n",
      "\u001b[K    100% |################################| 133kB 489kB/s ta 0:00:01\n",
      "\u001b[?25hCollecting requests-toolbelt<1.0.0,>=0.4.0 (from boxsdk)\n",
      "  Downloading https://files.pythonhosted.org/packages/60/ef/7681134338fc097acef8d9b2f8abe0458e4d87559c689a8c306d0957ece5/requests_toolbelt-0.9.1-py2.py3-none-any.whl (54kB)\n",
      "\u001b[K    100% |################################| 61kB 1.5MB/s ta 0:00:01\n",
      "\u001b[?25hRequirement already satisfied: wrapt>=1.10.1 in /usr/local/lib/python3.6/dist-packages (from boxsdk)\n",
      "Requirement already satisfied: requests>=2.4.3 in /usr/local/lib/python3.6/dist-packages (from boxsdk)\n",
      "Requirement already satisfied: attrs>=17.3.0 in /usr/local/lib/python3.6/dist-packages (from boxsdk)\n",
      "Requirement already satisfied: six>=1.9.0 in /usr/local/lib/python3.6/dist-packages (from boxsdk)\n",
      "Requirement already satisfied: urllib3<1.27,>=1.21.1 in /usr/local/lib/python3.6/dist-packages (from requests>=2.4.3->boxsdk)\n",
      "Requirement already satisfied: idna<3,>=2.5 in /usr/local/lib/python3.6/dist-packages (from requests>=2.4.3->boxsdk)\n",
      "Requirement already satisfied: chardet<5,>=3.0.2 in /usr/local/lib/python3.6/dist-packages (from requests>=2.4.3->boxsdk)\n",
      "Requirement already satisfied: certifi>=2017.4.17 in /usr/local/lib/python3.6/dist-packages (from requests>=2.4.3->boxsdk)\n",
      "Installing collected packages: requests-toolbelt, boxsdk\n",
      "Successfully installed boxsdk-2.12.1 requests-toolbelt-0.9.1\n"
     ]
    }
   ],
   "source": [
    "!pip3 install boxsdk"
   ]
  },
  {
   "cell_type": "code",
   "execution_count": 2,
   "metadata": {},
   "outputs": [
    {
     "name": "stdout",
     "output_type": "stream",
     "text": [
      "\u001b[36mGET https://api.box.com/2.0/shared_items {'headers': {'Authorization': '---LQPk',\n",
      "             'BoxApi': 'shared_link=https://app.box.com/s/bfs688apyvor4eo8sf3y1oqtnarwafww',\n",
      "             'User-Agent': 'box-python-sdk-2.12.1',\n",
      "             'X-Box-UA': 'agent=box-python-sdk/2.12.1; env=python/3.6.9'}}\u001b[0m\n",
      "\u001b[32m\"GET https://api.box.com/2.0/shared_items\" 200 937\n",
      "{'Date': 'Mon, 26 Jul 2021 21:31:37 GMT', 'Content-Type': 'application/json', 'Transfer-Encoding': 'chunked', 'Connection': 'keep-alive', 'x-envoy-upstream-service-time': '260', 'content-encoding': 'gzip', 'etag': 'W/\"1\"', 'box-request-id': '0f5f5d1dc2d5aa027e4cc37f4c57d83df', 'cache-control': 'no-cache, no-store', 'strict-transport-security': 'max-age=31536000'}\n",
      "{'content_created_at': '2021-06-07T09:08:48-07:00',\n",
      " 'content_modified_at': '2021-06-07T09:08:48-07:00',\n",
      " 'created_at': '2021-06-07T09:27:39-07:00',\n",
      " 'created_by': {'id': '255493397',\n",
      "                'login': 'dustinf@nvidia.com',\n",
      "                'name': 'Dustin Franklin',\n",
      "                'type': 'user'},\n",
      " 'description': '',\n",
      " 'etag': '1',\n",
      " 'file_version': {'id': '877618936419',\n",
      "                  'sha1': '5be6cf364f299c02a99b658cda0b2f611d630692',\n",
      "                  'type': 'file_version'},\n",
      " 'id': '819400193619',\n",
      " 'item_status': 'active',\n",
      " 'modified_at': '2021-06-07T09:27:39-07:00',\n",
      " 'modified_by': {'id': '255493397',\n",
      "                 'login': 'dustinf@nvidia.com',\n",
      "                 'name': 'Dustin Franklin',\n",
      "                 'type': 'user'},\n",
      " 'name': 'onnxruntime_gpu-1.8.0-cp36-cp36m-linux_aarch64.whl',\n",
      " 'owned_by': {'id': '255493397',\n",
      "              'login': 'dustinf@nvidia.com',\n",
      "              'name': 'Dustin Franklin',\n",
      "              'type': 'user'},\n",
      " 'parent': None,\n",
      " 'path_collection': {'entries': [], 'total_count': 0},\n",
      " 'purged_at': None,\n",
      " 'sequence_id': '1',\n",
      " 'sha1': '5be6cf364f299c02a99b658cda0b2f611d630692',\n",
      " 'shared_link': None,\n",
      " 'size': 20293489,\n",
      " 'trashed_at': None,\n",
      " 'type': 'file'}\n",
      "\u001b[0m\n",
      "<Box File - 819400193619 (onnxruntime_gpu-1.8.0-cp36-cp36m-linux_aarch64.whl)>\n"
     ]
    }
   ],
   "source": [
    "from boxsdk import LoggingClient, OAuth2\n",
    "\n",
    "oauth = OAuth2(\n",
    "  client_id='72sjm8orceeimhg63hkm08q4y13l8moj',\n",
    "  client_secret='CzyuEeEE7UanTPMj81qS8U9u2ytvFzaV',\n",
    "  access_token='QTzW94kYepg4nuY8HUMC9UmlTyTELQPk',\n",
    ")\n",
    "client = LoggingClient(oauth)\n",
    "\n",
    "# taken from https://elinux.org/Jetson_Zoo#ONNX_Runtime\n",
    "shared_id = 'bfs688apyvor4eo8sf3y1oqtnarwafww'\n",
    "file = client.get_shared_item('https://app.box.com/s/%s' % shared_id)\n",
    "print(file)"
   ]
  },
  {
   "cell_type": "code",
   "execution_count": 3,
   "metadata": {},
   "outputs": [
    {
     "data": {
      "text/plain": [
       "0"
      ]
     },
     "execution_count": 3,
     "metadata": {},
     "output_type": "execute_result"
    }
   ],
   "source": [
    "whl_path = \"../data/%s\" % file.name\n",
    "\n",
    "import os\n",
    "os.system(\"wget 'https://app.box.com/index.php?rm=box_download_shared_file&shared_name=%s&file_id=f_%s' -O %s\" % (shared_id, file.id, whl_path))\n",
    "os.system(\"pip3 install %s\" % whl_path)    "
   ]
  },
  {
   "cell_type": "code",
   "execution_count": 4,
   "metadata": {},
   "outputs": [
    {
     "name": "stdout",
     "output_type": "stream",
     "text": [
      "onnxruntime 1.8.0\n"
     ]
    },
    {
     "data": {
      "text/plain": [
       "'GPU'"
      ]
     },
     "execution_count": 4,
     "metadata": {},
     "output_type": "execute_result"
    }
   ],
   "source": [
    "import onnxruntime as ort\n",
    "print(\"onnxruntime %s\" % ort.__version__)\n",
    "ort.get_device()"
   ]
  },
  {
   "cell_type": "code",
   "execution_count": null,
   "metadata": {},
   "outputs": [],
   "source": []
  }
 ],
 "metadata": {
  "kernelspec": {
   "display_name": "Python 3",
   "language": "python",
   "name": "python3"
  },
  "language_info": {
   "codemirror_mode": {
    "name": "ipython",
    "version": 3
   },
   "file_extension": ".py",
   "mimetype": "text/x-python",
   "name": "python",
   "nbconvert_exporter": "python",
   "pygments_lexer": "ipython3",
   "version": "3.6.9"
  }
 },
 "nbformat": 4,
 "nbformat_minor": 4
}
